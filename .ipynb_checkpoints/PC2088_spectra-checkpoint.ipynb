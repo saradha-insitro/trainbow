{
 "cells": [
  {
   "cell_type": "code",
   "execution_count": 1,
   "id": "0987fb45",
   "metadata": {},
   "outputs": [],
   "source": [
    "import numpy as np\n",
    "import matplotlib.pyplot as plt\n",
    "from skimage import measure\n",
    "import cv2 as cv\n",
    "import pandas as pd\n",
    "from scipy.stats import kurtosis, skew\n",
    "\n",
    "\n",
    "from ml_projects.posh.utils import data, fluorescence,microscope\n",
    "from ml_projects.microscopy_common.utils import plate"
   ]
  },
  {
   "cell_type": "code",
   "execution_count": 2,
   "id": "8401b49f",
   "metadata": {},
   "outputs": [],
   "source": [
    "plate_id = \"PC2088\"\n",
    "channel_map = {\"DAPI\": 3, \n",
    "               \"WGA_488\": 2,\n",
    "               \"WGA_555\": 1,\n",
    "               \"Lysoview_630\": 0}\n",
    "well_map = {\n",
    "            \"DAPI\" : ['A01','B01'],\n",
    "            \"DAPI+WGA488\" : ['A02','B02'],\n",
    "            \"DAPI+WGA55\" : ['A03','B03'],\n",
    "            \"DAPI+Lysoview633\" : ['A04','B04'],\n",
    "              \n",
    "            \"DAPI+WGA488+WGA55\": ['C01','D01'],\n",
    "            \"DAPI+WGA488+Lysoview633\": ['C02','D02'],\n",
    "            \"DAPI+WGA55+Lysoview633\": ['C03','D03'],\n",
    "            \"DAPI+WGA55+WGA55+Lysoview633\": ['C04','D04']\n",
    "}"
   ]
  },
  {
   "cell_type": "code",
   "execution_count": 34,
   "id": "ea00595b",
   "metadata": {},
   "outputs": [],
   "source": [
    "def normalize(raw_image:np.ndarray):\n",
    "    '''\n",
    "    Function that normalises the image\n",
    "    input : single channel 2D image\n",
    "    '''\n",
    "    image = cv.normalize(\n",
    "        raw_image, None, alpha=0, beta=255, norm_type=cv.NORM_MINMAX, dtype=cv.CV_32F\n",
    "    )\n",
    "    return image\n",
    "\n",
    "\n",
    "def vis_channel_wise(img,cmap):\n",
    "    fig = plt.figure(figsize=(8, 8),dpi=300)\n",
    "    ax1 = fig.add_subplot(141)\n",
    "    ax2 = fig.add_subplot(142)\n",
    "    ax3 = fig.add_subplot(143)\n",
    "    ax4 = fig.add_subplot(144)\n",
    "    ax1.imshow(img[cmap[\"DAPI\"]],cmap =\"gray\")\n",
    "    ax1.title.set_text(\"DAPI\")\n",
    "    ax1.axis('off')\n",
    "    ax2.imshow(img[cmap[\"WGA_488\"]],cmap =\"gray\")\n",
    "    ax2.title.set_text(\"WGA_488\")\n",
    "    ax2.axis('off')\n",
    "    ax3.imshow(img[cmap[\"WGA_555\"]],cmap =\"gray\")\n",
    "    ax3.title.set_text(\"WGA_555\")\n",
    "    ax3.axis('off')\n",
    "    ax4.imshow(img[cmap[\"Lysoview_630\"]],cmap =\"gray\")\n",
    "    ax4.title.set_text(\"Lysoview_630\")\n",
    "    ax4.axis('off')\n",
    "    fig.show()\n",
    "    \n",
    "def channel_features(img):\n",
    "    \n",
    "    feat ={ \"sum\": float(np.sum(img.ravel())),\n",
    "            \"mean\": float(np.mean(img.ravel())),\n",
    "            \"min\": float(np.min(img.ravel())),\n",
    "            \"max\": float(np.max(img.ravel())),\n",
    "            \"sd\": float(np.std(img.ravel())),\n",
    "            \"kurtosis\": float(kurtosis(img.ravel())),\n",
    "            \"skew\" : float(skew(img.ravel()))\n",
    "          }\n",
    "    \n",
    "    return pd.DataFrame([feat])"
   ]
  },
  {
   "cell_type": "code",
   "execution_count": 4,
   "id": "11456969",
   "metadata": {},
   "outputs": [
    {
     "name": "stderr",
     "output_type": "stream",
     "text": [
      "INFO:root:Selected Acquisition Folders: \n",
      " ['nikon3/Nikon_Confocal_DB2 Projects/PC2088/Spectra_20X_WF/20220812_164654_445']\n"
     ]
    }
   ],
   "source": [
    "## obtain the s3 database\n",
    "plates = data.get_nikon_plates()\n",
    "## Obtain the most recent acquisition \n",
    "measurement_id = plates[(plates.plate_id == plate_id)].sort_values(by=['acquisition_time'],ascending=False).iloc[0][\"uuid\"]\n",
    "\n",
    "acquisition_df = data.create_acquisition_dataframe(measurement_id)"
   ]
  },
  {
   "cell_type": "code",
   "execution_count": 21,
   "id": "2abd161e",
   "metadata": {},
   "outputs": [
    {
     "name": "stdout",
     "output_type": "stream",
     "text": [
      "DAPI\n",
      "DAPI+WGA488\n",
      "DAPI+WGA55\n",
      "DAPI+Lysoview633\n",
      "DAPI+WGA488+WGA55\n",
      "DAPI+WGA488+Lysoview633\n",
      "DAPI+WGA55+Lysoview633\n",
      "DAPI+WGA55+WGA55+Lysoview633\n"
     ]
    }
   ],
   "source": [
    "# For each condition open a random image and visualise each plate by its channels\n",
    "all_features = pd.DataFrame()\n",
    "\n",
    "for sample in list(well_map.keys()):\n",
    "    print(sample)\n",
    "    for i in range(5):\n",
    "        well = np.random.choice(well_map[sample])\n",
    "        image_path = np.random.choice(acquisition_df[acquisition_df.well_loc == well ].path)\n",
    "        #open image\n",
    "        image = data.read_image(image_path)\n",
    "        visualise each image across channels\n",
    "        #vis_channel_wise(image,channel_map)\n",
    "\n",
    "        feat = pd.concat([channel_features(image[channel_map[\"DAPI\"]].astype('uint8')).add_prefix('DAPI_').reset_index(drop=True),\n",
    "                    channel_features(image[channel_map[\"WGA_488\"]].astype('uint8')).add_prefix('WGA_488_').reset_index(drop=True),\n",
    "                   channel_features(image[channel_map[\"WGA_555\"]].astype('uint8')).add_prefix('WGA_555_').reset_index(drop=True),\n",
    "                      channel_features(image[channel_map[\"Lysoview_630\"]].astype('uint8')).add_prefix('Lysoview_630_')],\n",
    "                  axis = 1)\n",
    "        feat[\"sample\"] = sample\n",
    "\n",
    "        all_features = pd.concat([feat,all_features], ignore_index = True)\n",
    "\n"
   ]
  },
  {
   "cell_type": "code",
   "execution_count": 25,
   "id": "d7f7881b",
   "metadata": {},
   "outputs": [],
   "source": [
    "avg_features = all_features.groupby(\"sample\").agg('mean')"
   ]
  },
  {
   "cell_type": "code",
   "execution_count": 38,
   "id": "9c328281",
   "metadata": {},
   "outputs": [
    {
     "data": {
      "text/plain": [
       "sample\n",
       "DAPI                            134.858260\n",
       "DAPI+Lysoview633                127.512527\n",
       "DAPI+WGA488                     135.147215\n",
       "DAPI+WGA488+Lysoview633         127.473240\n",
       "DAPI+WGA488+WGA55               147.692248\n",
       "DAPI+WGA55                      153.188366\n",
       "DAPI+WGA55+Lysoview633          133.893877\n",
       "DAPI+WGA55+WGA55+Lysoview633    127.490824\n",
       "Name: Lysoview_630_mean, dtype: float64"
      ]
     },
     "execution_count": 38,
     "metadata": {},
     "output_type": "execute_result"
    }
   ],
   "source": [
    "avg_features[\"Lysoview_630_mean\"]"
   ]
  },
  {
   "cell_type": "code",
   "execution_count": 84,
   "id": "04fea8cf",
   "metadata": {},
   "outputs": [
    {
     "data": {
      "text/plain": [
       "0.3250299770720528"
      ]
     },
     "execution_count": 84,
     "metadata": {},
     "output_type": "execute_result"
    }
   ],
   "source": [
    "skew(image[channel_map[\"Lysoview_630\"]].ravel())"
   ]
  }
 ],
 "metadata": {
  "kernelspec": {
   "display_name": "Python 3 (ipykernel)",
   "language": "python",
   "name": "python3"
  },
  "language_info": {
   "codemirror_mode": {
    "name": "ipython",
    "version": 3
   },
   "file_extension": ".py",
   "mimetype": "text/x-python",
   "name": "python",
   "nbconvert_exporter": "python",
   "pygments_lexer": "ipython3",
   "version": "3.9.13"
  }
 },
 "nbformat": 4,
 "nbformat_minor": 5
}
