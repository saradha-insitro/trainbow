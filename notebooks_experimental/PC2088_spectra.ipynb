{
 "cells": [
  {
   "cell_type": "code",
   "execution_count": 6,
   "id": "0987fb45",
   "metadata": {},
   "outputs": [],
   "source": [
    "import numpy as np\n",
    "import matplotlib.pyplot as plt\n",
    "from skimage import measure\n",
    "import cv2 as cv\n",
    "import pandas as pd\n",
    "from scipy.stats import kurtosis, skew\n",
    "from tqdm.notebook import tqdm\n",
    "\n",
    "from ml_projects.posh.utils import data, fluorescence,microscope\n",
    "from ml_projects.microscopy_common.utils import plate\n",
    "\n",
    "\n",
    "from insitro_data.utils import db_utils\n",
    "from ml_projects.posh.utils import image as image_utils\n",
    "from skimage import measure,exposure, color\n"
   ]
  },
  {
   "cell_type": "code",
   "execution_count": 7,
   "id": "8401b49f",
   "metadata": {},
   "outputs": [],
   "source": [
    "plate_id = \"PC2088\"\n",
    "channel_map = {\"DAPI\": 3, \n",
    "               \"WGA_488\": 2,\n",
    "               \"WGA_555\": 1,\n",
    "               \"Lysoview_630\": 0}\n",
    "\n",
    "channel_map_tech_dev = {\"DAPI\": 1, \n",
    "               \"WGA_488\": 2,\n",
    "               \"WGA_555\": 0,\n",
    "               \"Lysoview_630\": 0}\n",
    "\n",
    "well_map = {\n",
    "            \"DAPI\" : ['A01','B01'],\n",
    "            \"DAPI+WGA488\" : ['A02','B02'],\n",
    "            \"DAPI+WGA55\" : ['A03','B03'],\n",
    "            \"DAPI+Lysoview633\" : ['A04','B04'],\n",
    "              \n",
    "            \"DAPI+WGA488+WGA55\": ['C01','D01'],\n",
    "            \"DAPI+WGA488+Lysoview633\": ['C02','D02'],\n",
    "            \"DAPI+WGA55+Lysoview633\": ['C03','D03'],\n",
    "            \"DAPI+WGA55+WGA55+Lysoview633\": ['C04','D04']\n",
    "}\n",
    "\n",
    "#sql query : note that is is based on the plate map\n",
    "query = (\n",
    "    f\"select * from canonical_image where plate_barcode = 'PC2088' AND microscope_id = 6\")"
   ]
  },
  {
   "cell_type": "code",
   "execution_count": 160,
   "id": "fc8a45d9",
   "metadata": {},
   "outputs": [],
   "source": [
    "def normalize(raw_image:np.ndarray):\n",
    "    '''\n",
    "    Function that normalises the image\n",
    "    input : single channel 2D image\n",
    "    '''\n",
    "    image = cv.normalize(\n",
    "        raw_image, None, alpha=0, beta=255, norm_type=cv.NORM_MINMAX, dtype=cv.CV_32F\n",
    "    )\n",
    "    return image\n",
    "\n",
    "\n",
    "def vis_channel_wise(img,cmap):\n",
    "    fig = plt.figure(figsize=(8, 8),dpi=300)\n",
    "    ax1 = fig.add_subplot(141)\n",
    "    ax2 = fig.add_subplot(142)\n",
    "    ax3 = fig.add_subplot(143)\n",
    "    ax4 = fig.add_subplot(144)\n",
    "    ax1.imshow(img[cmap[\"DAPI\"]],cmap =\"gray\")\n",
    "    ax1.title.set_text(\"DAPI\")\n",
    "    ax1.axis('off')\n",
    "    ax2.imshow(img[cmap[\"WGA_488\"]],cmap =\"gray\")\n",
    "    ax2.title.set_text(\"WGA_488\")\n",
    "    ax2.axis('off')\n",
    "    ax3.imshow(img[cmap[\"WGA_555\"]],cmap =\"gray\")\n",
    "    ax3.title.set_text(\"WGA_555\")\n",
    "    ax3.axis('off')\n",
    "    ax4.imshow(img[cmap[\"Lysoview_630\"]],cmap =\"gray\")\n",
    "    ax4.title.set_text(\"Lysoview_630\")\n",
    "    ax4.axis('off')\n",
    "    fig.show()\n",
    "    \n",
    "def channel_features(img):\n",
    "    \n",
    "    feat ={ \"sum\": float(np.sum(img.ravel())),\n",
    "            \"mean\": float(np.mean(img.ravel())),\n",
    "            \"min\": float(np.min(img.ravel())),\n",
    "            \"max\": float(np.max(img.ravel())),\n",
    "            \"sd\": float(np.std(img.ravel())),\n",
    "            \"kurtosis\": float(kurtosis(img.ravel())),\n",
    "            \"skew\" : float(skew(img.ravel()))\n",
    "          }\n",
    "    \n",
    "    return pd.DataFrame([feat])\n",
    "\n",
    "def plot_heatmap(mat):\n",
    "        \n",
    "    fig, ax = plt.subplots(figsize=(8, 6), dpi=80)\n",
    "    im = ax.imshow(mat, cmap='coolwarm', interpolation='nearest')\n",
    "\n",
    "    ax.set_xticks(np.arange(mat.shape[1]), labels = list(mat.columns))\n",
    "    ax.set_yticks(np.arange(mat.shape[0]), labels = list(mat.index))\n",
    "\n",
    "\n",
    "    # Loop over data dimensions and create text annotations.\n",
    "    for i in range(mat.shape[0]):\n",
    "        for j in range(mat.shape[1]):\n",
    "            text = ax.text(j, i, mat.iloc[i, j],\n",
    "                           ha=\"center\", va=\"center\", color=\"w\")\n",
    "\n",
    "\n",
    "    # Rotate the tick labels and set their alignment.\n",
    "    plt.setp(ax.get_xticklabels(), rotation=45, ha=\"right\",\n",
    "             rotation_mode=\"anchor\")\n",
    "\n",
    "    # Create colorbar\n",
    "    cbar = ax.figure.colorbar(im, ax=ax)\n",
    "\n",
    "    fig.tight_layout()\n",
    "    plt.show()\n"
   ]
  },
  {
   "cell_type": "code",
   "execution_count": 4,
   "id": "11456969",
   "metadata": {},
   "outputs": [
    {
     "name": "stderr",
     "output_type": "stream",
     "text": [
      "INFO:root:Selected Acquisition Folders: \n",
      " ['nikon3/Nikon_Confocal_DB2 Projects/PC2088/Spectra_20X_WF/20220812_164654_445']\n"
     ]
    }
   ],
   "source": [
    "## obtain the s3 database\n",
    "plates = data.get_nikon_plates()\n",
    "## Obtain the most recent acquisition \n",
    "measurement_id = plates[(plates.plate_id == plate_id)].sort_values(by=['acquisition_time'],ascending=False).iloc[0][\"uuid\"]\n",
    "acquisition_df = data.create_acquisition_dataframe(measurement_id)\n",
    "\n",
    "#connect to the sql database and extract the experiment info\n",
    "engine = db_utils.get_readonly_research_db_engine()\n",
    "con = engine.connect()\n",
    "techdev_scope = pd.read_sql(query, con)\n",
    "techdev_acquisition = data.create_multi_acquisition_canonical_dataframe(list(techdev_scope.measurement_id.unique()))"
   ]
  },
  {
   "cell_type": "code",
   "execution_count": 12,
   "id": "2abd161e",
   "metadata": {},
   "outputs": [
    {
     "name": "stdout",
     "output_type": "stream",
     "text": [
      "DAPI\n"
     ]
    },
    {
     "data": {
      "application/vnd.jupyter.widget-view+json": {
       "model_id": "64e767f1ba774a83aaf9a9f183bd5f0d",
       "version_major": 2,
       "version_minor": 0
      },
      "text/plain": [
       "  0%|          | 0/5 [00:00<?, ?it/s]"
      ]
     },
     "metadata": {},
     "output_type": "display_data"
    },
    {
     "name": "stdout",
     "output_type": "stream",
     "text": [
      "DAPI+WGA488\n"
     ]
    },
    {
     "data": {
      "application/vnd.jupyter.widget-view+json": {
       "model_id": "58b8254b35f94de0acf8521fcedb6a02",
       "version_major": 2,
       "version_minor": 0
      },
      "text/plain": [
       "  0%|          | 0/5 [00:00<?, ?it/s]"
      ]
     },
     "metadata": {},
     "output_type": "display_data"
    },
    {
     "name": "stdout",
     "output_type": "stream",
     "text": [
      "DAPI+WGA55\n"
     ]
    },
    {
     "data": {
      "application/vnd.jupyter.widget-view+json": {
       "model_id": "27089f402b0145849099bbf18bb4dbba",
       "version_major": 2,
       "version_minor": 0
      },
      "text/plain": [
       "  0%|          | 0/5 [00:00<?, ?it/s]"
      ]
     },
     "metadata": {},
     "output_type": "display_data"
    },
    {
     "name": "stdout",
     "output_type": "stream",
     "text": [
      "DAPI+Lysoview633\n"
     ]
    },
    {
     "data": {
      "application/vnd.jupyter.widget-view+json": {
       "model_id": "dff7ad7d039c457db3be01f8c512805e",
       "version_major": 2,
       "version_minor": 0
      },
      "text/plain": [
       "  0%|          | 0/5 [00:00<?, ?it/s]"
      ]
     },
     "metadata": {},
     "output_type": "display_data"
    },
    {
     "name": "stdout",
     "output_type": "stream",
     "text": [
      "DAPI+WGA488+WGA55\n"
     ]
    },
    {
     "data": {
      "application/vnd.jupyter.widget-view+json": {
       "model_id": "5c0d012d55a2496bbe447fc2f3365e3c",
       "version_major": 2,
       "version_minor": 0
      },
      "text/plain": [
       "  0%|          | 0/5 [00:00<?, ?it/s]"
      ]
     },
     "metadata": {},
     "output_type": "display_data"
    },
    {
     "name": "stdout",
     "output_type": "stream",
     "text": [
      "DAPI+WGA488+Lysoview633\n"
     ]
    },
    {
     "data": {
      "application/vnd.jupyter.widget-view+json": {
       "model_id": "26d2f2e5ac004e41a5d97e35ac07d5e5",
       "version_major": 2,
       "version_minor": 0
      },
      "text/plain": [
       "  0%|          | 0/5 [00:00<?, ?it/s]"
      ]
     },
     "metadata": {},
     "output_type": "display_data"
    },
    {
     "name": "stdout",
     "output_type": "stream",
     "text": [
      "DAPI+WGA55+Lysoview633\n"
     ]
    },
    {
     "data": {
      "application/vnd.jupyter.widget-view+json": {
       "model_id": "f4d4501befb1422cb17f804efc9c1482",
       "version_major": 2,
       "version_minor": 0
      },
      "text/plain": [
       "  0%|          | 0/5 [00:00<?, ?it/s]"
      ]
     },
     "metadata": {},
     "output_type": "display_data"
    },
    {
     "name": "stdout",
     "output_type": "stream",
     "text": [
      "DAPI+WGA55+WGA55+Lysoview633\n"
     ]
    },
    {
     "data": {
      "application/vnd.jupyter.widget-view+json": {
       "model_id": "fd89fea6e3bf4e88a77e020bf9c741b8",
       "version_major": 2,
       "version_minor": 0
      },
      "text/plain": [
       "  0%|          | 0/5 [00:00<?, ?it/s]"
      ]
     },
     "metadata": {},
     "output_type": "display_data"
    }
   ],
   "source": [
    "# For each condition open a random image and visualise each plate by its channels\n",
    "all_features = pd.DataFrame()\n",
    "\n",
    "for sample in list(well_map.keys()):\n",
    "    print(sample)\n",
    "    for i in tqdm(range(5)):\n",
    "        well = np.random.choice(well_map[sample])\n",
    "        image_path = np.random.choice(acquisition_df[acquisition_df.well_loc == well ].path)\n",
    "        #open image\n",
    "        image = data.read_image(image_path)\n",
    "        #visualise each image across channels\n",
    "        #vis_channel_wise(image,channel_map)\n",
    "\n",
    "        feat = pd.concat([channel_features(image[channel_map[\"DAPI\"]]).add_prefix('DAPI_').reset_index(drop=True),\n",
    "                        channel_features(image[channel_map[\"WGA_488\"]]).add_prefix('WGA_488_').reset_index(drop=True),\n",
    "                       channel_features(image[channel_map[\"WGA_555\"]]).add_prefix('WGA_555_').reset_index(drop=True),\n",
    "                       channel_features(image[channel_map[\"Lysoview_630\"]]).add_prefix('Lysoview_630_')],\n",
    "                  axis = 1)\n",
    "        feat[\"sample\"] = sample\n",
    "\n",
    "        all_features = pd.concat([feat,all_features], ignore_index = True)\n",
    "\n"
   ]
  },
  {
   "cell_type": "code",
   "execution_count": 159,
   "id": "d7f7881b",
   "metadata": {},
   "outputs": [
    {
     "data": {
      "image/png": "[encoded data removed]",
      "text/plain": [
       "<Figure size 640x480 with 2 Axes>"
      ]
     },
     "metadata": {
      "needs_background": "light"
     },
     "output_type": "display_data"
    }
   ],
   "source": [
    "feature = '_mean'\n",
    "\n",
    "avg_features = all_features.groupby(\"sample\")\n",
    "cols_to_select = [sub + feature for sub in list(channel_map.keys())[1:4]]\n",
    "\n",
    "mat = np.array([np.array(avg_features.get_group(list(well_map.keys())[0])[cols_to_select].agg('mean')), \n",
    "                np.array(avg_features.get_group(list(well_map.keys())[1])[cols_to_select].agg('mean')), \n",
    "                np.array(avg_features.get_group(list(well_map.keys())[2])[cols_to_select].agg('mean')), \n",
    "                np.array(avg_features.get_group(list(well_map.keys())[3])[cols_to_select].agg('mean')), \n",
    "                np.array(avg_features.get_group(list(well_map.keys())[4])[cols_to_select].agg('mean')), \n",
    "                np.array(avg_features.get_group(list(well_map.keys())[5])[cols_to_select].agg('mean')), \n",
    "                np.array(avg_features.get_group(list(well_map.keys())[6])[cols_to_select].agg('mean')), \n",
    "                np.array(avg_features.get_group(list(well_map.keys())[7])[cols_to_select].agg('mean')), \n",
    "     ], np.int32)\n",
    "\n",
    "features = cols_to_select\n",
    "samples = list(well_map.keys())\n",
    "matrix = pd.DataFrame(mat, columns=features, index= samples)\n",
    "normalised_matrix = (matrix.T/list(np.sum(matrix,axis = 1))).T\n",
    "\n",
    "plot_heatmap(normalised_matrix.round(2))"
   ]
  },
  {
   "cell_type": "code",
   "execution_count": null,
   "id": "1d1754d6",
   "metadata": {},
   "outputs": [],
   "source": []
  }
 ],
 "metadata": {
  "kernelspec": {
   "display_name": "Python 3 (ipykernel)",
   "language": "python",
   "name": "python3"
  },
  "language_info": {
   "codemirror_mode": {
    "name": "ipython",
    "version": 3
   },
   "file_extension": ".py",
   "mimetype": "text/x-python",
   "name": "python",
   "nbconvert_exporter": "python",
   "pygments_lexer": "ipython3",
   "version": "3.9.13"
  }
 },
 "nbformat": 4,
 "nbformat_minor": 5
}
