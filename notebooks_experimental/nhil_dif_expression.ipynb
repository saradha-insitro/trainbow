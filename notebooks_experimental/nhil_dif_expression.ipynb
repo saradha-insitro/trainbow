{
 "cells": [
  {
   "cell_type": "code",
   "execution_count": 6,
   "id": "c4eb4af5",
   "metadata": {},
   "outputs": [],
   "source": [
    "import pandas as pd\n",
    "import s3fs"
   ]
  },
  {
   "cell_type": "code",
   "execution_count": 7,
   "id": "2bd9a876",
   "metadata": {},
   "outputs": [],
   "source": [
    "chunck = pd.read_csv('s3://insitro-user/haoyang/scratch/alldata.csv',chunksize=1000)\n"
   ]
  },
  {
   "cell_type": "code",
   "execution_count": 8,
   "id": "02dbb287",
   "metadata": {},
   "outputs": [
    {
     "data": {
      "text/plain": [
       "<pandas.io.parsers.readers.TextFileReader at 0x7f3d37244ac0>"
      ]
     },
     "execution_count": 8,
     "metadata": {},
     "output_type": "execute_result"
    }
   ],
   "source": [
    "chunck"
   ]
  },
  {
   "cell_type": "code",
   "execution_count": null,
   "id": "1a5de395",
   "metadata": {},
   "outputs": [],
   "source": []
  },
  {
   "cell_type": "code",
   "execution_count": 12,
   "id": "c9e6699e",
   "metadata": {},
   "outputs": [],
   "source": [
    "import pandas as pd\n",
    "from ml_projects.posh.utils import data\n",
    "import boto3\n",
    "from io import BytesIO\n",
    "import os\n"
   ]
  },
  {
   "cell_type": "code",
   "execution_count": 13,
   "id": "1cb7c103",
   "metadata": {},
   "outputs": [],
   "source": [
    "AWS_S3_BUCKET = os.getenv(\"AWS_S3_BUCKET\")\n",
    "AWS_ACCESS_KEY_ID = os.getenv(\"AWS_ACCESS_KEY_ID\")\n",
    "AWS_SECRET_ACCESS_KEY = os.getenv(\"AWS_SECRET_ACCESS_KEY\")\n",
    "AWS_SESSION_TOKEN = os.getenv(\"AWS_SESSION_TOKEN\")\n"
   ]
  },
  {
   "cell_type": "code",
   "execution_count": 14,
   "id": "86cacc0a",
   "metadata": {},
   "outputs": [],
   "source": [
    "s3_client = boto3.client(\n",
    "    \"s3\",\n",
    "    aws_access_key_id=AWS_ACCESS_KEY_ID,\n",
    "    aws_secret_access_key=AWS_SECRET_ACCESS_KEY,\n",
    "    aws_session_token=AWS_SESSION_TOKEN,\n",
    ")\n"
   ]
  },
  {
   "cell_type": "code",
   "execution_count": 15,
   "id": "ae34854c",
   "metadata": {},
   "outputs": [
    {
     "ename": "TypeError",
     "evalue": "expected string or bytes-like object",
     "output_type": "error",
     "traceback": [
      "\u001b[0;31m---------------------------------------------------------------------------\u001b[0m",
      "\u001b[0;31mTypeError\u001b[0m                                 Traceback (most recent call last)",
      "\u001b[0;32m/tmp/ipykernel_1808/3702565293.py\u001b[0m in \u001b[0;36m<cell line: 1>\u001b[0;34m()\u001b[0m\n\u001b[0;32m----> 1\u001b[0;31m \u001b[0mresponse\u001b[0m \u001b[0;34m=\u001b[0m \u001b[0ms3_client\u001b[0m\u001b[0;34m.\u001b[0m\u001b[0mget_object\u001b[0m\u001b[0;34m(\u001b[0m\u001b[0mBucket\u001b[0m\u001b[0;34m=\u001b[0m\u001b[0mAWS_S3_BUCKET\u001b[0m\u001b[0;34m,\u001b[0m \u001b[0mKey\u001b[0m\u001b[0;34m=\u001b[0m\u001b[0;34m\"https://data.aws.insitro.com/s3/insitro-user/haoyang/scratch/alldata.csv\"\u001b[0m\u001b[0;34m)\u001b[0m\u001b[0;34m\u001b[0m\u001b[0;34m\u001b[0m\u001b[0m\n\u001b[0m",
      "\u001b[0;32m~/miniconda3/envs/insitro/lib/python3.9/site-packages/botocore/client.py\u001b[0m in \u001b[0;36m_api_call\u001b[0;34m(self, *args, **kwargs)\u001b[0m\n\u001b[1;32m    386\u001b[0m                     \"%s() only accepts keyword arguments.\" % py_operation_name)\n\u001b[1;32m    387\u001b[0m             \u001b[0;31m# The \"self\" in this scope is referring to the BaseClient.\u001b[0m\u001b[0;34m\u001b[0m\u001b[0;34m\u001b[0m\u001b[0m\n\u001b[0;32m--> 388\u001b[0;31m             \u001b[0;32mreturn\u001b[0m \u001b[0mself\u001b[0m\u001b[0;34m.\u001b[0m\u001b[0m_make_api_call\u001b[0m\u001b[0;34m(\u001b[0m\u001b[0moperation_name\u001b[0m\u001b[0;34m,\u001b[0m \u001b[0mkwargs\u001b[0m\u001b[0;34m)\u001b[0m\u001b[0;34m\u001b[0m\u001b[0;34m\u001b[0m\u001b[0m\n\u001b[0m\u001b[1;32m    389\u001b[0m \u001b[0;34m\u001b[0m\u001b[0m\n\u001b[1;32m    390\u001b[0m         \u001b[0m_api_call\u001b[0m\u001b[0;34m.\u001b[0m\u001b[0m__name__\u001b[0m \u001b[0;34m=\u001b[0m \u001b[0mstr\u001b[0m\u001b[0;34m(\u001b[0m\u001b[0mpy_operation_name\u001b[0m\u001b[0;34m)\u001b[0m\u001b[0;34m\u001b[0m\u001b[0;34m\u001b[0m\u001b[0m\n",
      "\u001b[0;32m~/miniconda3/envs/insitro/lib/python3.9/site-packages/botocore/client.py\u001b[0m in \u001b[0;36m_make_api_call\u001b[0;34m(self, operation_name, api_params)\u001b[0m\n\u001b[1;32m    678\u001b[0m             \u001b[0;34m'auth_type'\u001b[0m\u001b[0;34m:\u001b[0m \u001b[0moperation_model\u001b[0m\u001b[0;34m.\u001b[0m\u001b[0mauth_type\u001b[0m\u001b[0;34m,\u001b[0m\u001b[0;34m\u001b[0m\u001b[0;34m\u001b[0m\u001b[0m\n\u001b[1;32m    679\u001b[0m         }\n\u001b[0;32m--> 680\u001b[0;31m         request_dict = self._convert_to_request_dict(\n\u001b[0m\u001b[1;32m    681\u001b[0m             api_params, operation_model, context=request_context)\n\u001b[1;32m    682\u001b[0m \u001b[0;34m\u001b[0m\u001b[0m\n",
      "\u001b[0;32m~/miniconda3/envs/insitro/lib/python3.9/site-packages/botocore/client.py\u001b[0m in \u001b[0;36m_convert_to_request_dict\u001b[0;34m(self, api_params, operation_model, context)\u001b[0m\n\u001b[1;32m    724\u001b[0m     def _convert_to_request_dict(self, api_params, operation_model,\n\u001b[1;32m    725\u001b[0m                                  context=None):\n\u001b[0;32m--> 726\u001b[0;31m         api_params = self._emit_api_params(\n\u001b[0m\u001b[1;32m    727\u001b[0m             api_params, operation_model, context)\n\u001b[1;32m    728\u001b[0m         request_dict = self._serializer.serialize_to_request(\n",
      "\u001b[0;32m~/miniconda3/envs/insitro/lib/python3.9/site-packages/botocore/client.py\u001b[0m in \u001b[0;36m_emit_api_params\u001b[0;34m(self, api_params, operation_model, context)\u001b[0m\n\u001b[1;32m    753\u001b[0m         event_name = (\n\u001b[1;32m    754\u001b[0m             'before-parameter-build.{service_id}.{operation_name}')\n\u001b[0;32m--> 755\u001b[0;31m         self.meta.events.emit(\n\u001b[0m\u001b[1;32m    756\u001b[0m             event_name.format(\n\u001b[1;32m    757\u001b[0m                 \u001b[0mservice_id\u001b[0m\u001b[0;34m=\u001b[0m\u001b[0mservice_id\u001b[0m\u001b[0;34m,\u001b[0m\u001b[0;34m\u001b[0m\u001b[0;34m\u001b[0m\u001b[0m\n",
      "\u001b[0;32m~/miniconda3/envs/insitro/lib/python3.9/site-packages/botocore/hooks.py\u001b[0m in \u001b[0;36memit\u001b[0;34m(self, event_name, **kwargs)\u001b[0m\n\u001b[1;32m    355\u001b[0m     \u001b[0;32mdef\u001b[0m \u001b[0memit\u001b[0m\u001b[0;34m(\u001b[0m\u001b[0mself\u001b[0m\u001b[0;34m,\u001b[0m \u001b[0mevent_name\u001b[0m\u001b[0;34m,\u001b[0m \u001b[0;34m**\u001b[0m\u001b[0mkwargs\u001b[0m\u001b[0;34m)\u001b[0m\u001b[0;34m:\u001b[0m\u001b[0;34m\u001b[0m\u001b[0;34m\u001b[0m\u001b[0m\n\u001b[1;32m    356\u001b[0m         \u001b[0maliased_event_name\u001b[0m \u001b[0;34m=\u001b[0m \u001b[0mself\u001b[0m\u001b[0;34m.\u001b[0m\u001b[0m_alias_event_name\u001b[0m\u001b[0;34m(\u001b[0m\u001b[0mevent_name\u001b[0m\u001b[0;34m)\u001b[0m\u001b[0;34m\u001b[0m\u001b[0;34m\u001b[0m\u001b[0m\n\u001b[0;32m--> 357\u001b[0;31m         \u001b[0;32mreturn\u001b[0m \u001b[0mself\u001b[0m\u001b[0;34m.\u001b[0m\u001b[0m_emitter\u001b[0m\u001b[0;34m.\u001b[0m\u001b[0memit\u001b[0m\u001b[0;34m(\u001b[0m\u001b[0maliased_event_name\u001b[0m\u001b[0;34m,\u001b[0m \u001b[0;34m**\u001b[0m\u001b[0mkwargs\u001b[0m\u001b[0;34m)\u001b[0m\u001b[0;34m\u001b[0m\u001b[0;34m\u001b[0m\u001b[0m\n\u001b[0m\u001b[1;32m    358\u001b[0m \u001b[0;34m\u001b[0m\u001b[0m\n\u001b[1;32m    359\u001b[0m     \u001b[0;32mdef\u001b[0m \u001b[0memit_until_response\u001b[0m\u001b[0;34m(\u001b[0m\u001b[0mself\u001b[0m\u001b[0;34m,\u001b[0m \u001b[0mevent_name\u001b[0m\u001b[0;34m,\u001b[0m \u001b[0;34m**\u001b[0m\u001b[0mkwargs\u001b[0m\u001b[0;34m)\u001b[0m\u001b[0;34m:\u001b[0m\u001b[0;34m\u001b[0m\u001b[0;34m\u001b[0m\u001b[0m\n",
      "\u001b[0;32m~/miniconda3/envs/insitro/lib/python3.9/site-packages/botocore/hooks.py\u001b[0m in \u001b[0;36memit\u001b[0;34m(self, event_name, **kwargs)\u001b[0m\n\u001b[1;32m    226\u001b[0m                  \u001b[0mhandlers\u001b[0m\u001b[0;34m.\u001b[0m\u001b[0;34m\u001b[0m\u001b[0;34m\u001b[0m\u001b[0m\n\u001b[1;32m    227\u001b[0m         \"\"\"\n\u001b[0;32m--> 228\u001b[0;31m         \u001b[0;32mreturn\u001b[0m \u001b[0mself\u001b[0m\u001b[0;34m.\u001b[0m\u001b[0m_emit\u001b[0m\u001b[0;34m(\u001b[0m\u001b[0mevent_name\u001b[0m\u001b[0;34m,\u001b[0m \u001b[0mkwargs\u001b[0m\u001b[0;34m)\u001b[0m\u001b[0;34m\u001b[0m\u001b[0;34m\u001b[0m\u001b[0m\n\u001b[0m\u001b[1;32m    229\u001b[0m \u001b[0;34m\u001b[0m\u001b[0m\n\u001b[1;32m    230\u001b[0m     \u001b[0;32mdef\u001b[0m \u001b[0memit_until_response\u001b[0m\u001b[0;34m(\u001b[0m\u001b[0mself\u001b[0m\u001b[0;34m,\u001b[0m \u001b[0mevent_name\u001b[0m\u001b[0;34m,\u001b[0m \u001b[0;34m**\u001b[0m\u001b[0mkwargs\u001b[0m\u001b[0;34m)\u001b[0m\u001b[0;34m:\u001b[0m\u001b[0;34m\u001b[0m\u001b[0;34m\u001b[0m\u001b[0m\n",
      "\u001b[0;32m~/miniconda3/envs/insitro/lib/python3.9/site-packages/botocore/hooks.py\u001b[0m in \u001b[0;36m_emit\u001b[0;34m(self, event_name, kwargs, stop_on_response)\u001b[0m\n\u001b[1;32m    209\u001b[0m         \u001b[0;32mfor\u001b[0m \u001b[0mhandler\u001b[0m \u001b[0;32min\u001b[0m \u001b[0mhandlers_to_call\u001b[0m\u001b[0;34m:\u001b[0m\u001b[0;34m\u001b[0m\u001b[0;34m\u001b[0m\u001b[0m\n\u001b[1;32m    210\u001b[0m             \u001b[0mlogger\u001b[0m\u001b[0;34m.\u001b[0m\u001b[0mdebug\u001b[0m\u001b[0;34m(\u001b[0m\u001b[0;34m'Event %s: calling handler %s'\u001b[0m\u001b[0;34m,\u001b[0m \u001b[0mevent_name\u001b[0m\u001b[0;34m,\u001b[0m \u001b[0mhandler\u001b[0m\u001b[0;34m)\u001b[0m\u001b[0;34m\u001b[0m\u001b[0;34m\u001b[0m\u001b[0m\n\u001b[0;32m--> 211\u001b[0;31m             \u001b[0mresponse\u001b[0m \u001b[0;34m=\u001b[0m \u001b[0mhandler\u001b[0m\u001b[0;34m(\u001b[0m\u001b[0;34m**\u001b[0m\u001b[0mkwargs\u001b[0m\u001b[0;34m)\u001b[0m\u001b[0;34m\u001b[0m\u001b[0;34m\u001b[0m\u001b[0m\n\u001b[0m\u001b[1;32m    212\u001b[0m             \u001b[0mresponses\u001b[0m\u001b[0;34m.\u001b[0m\u001b[0mappend\u001b[0m\u001b[0;34m(\u001b[0m\u001b[0;34m(\u001b[0m\u001b[0mhandler\u001b[0m\u001b[0;34m,\u001b[0m \u001b[0mresponse\u001b[0m\u001b[0;34m)\u001b[0m\u001b[0;34m)\u001b[0m\u001b[0;34m\u001b[0m\u001b[0;34m\u001b[0m\u001b[0m\n\u001b[1;32m    213\u001b[0m             \u001b[0;32mif\u001b[0m \u001b[0mstop_on_response\u001b[0m \u001b[0;32mand\u001b[0m \u001b[0mresponse\u001b[0m \u001b[0;32mis\u001b[0m \u001b[0;32mnot\u001b[0m \u001b[0;32mNone\u001b[0m\u001b[0;34m:\u001b[0m\u001b[0;34m\u001b[0m\u001b[0;34m\u001b[0m\u001b[0m\n",
      "\u001b[0;32m~/miniconda3/envs/insitro/lib/python3.9/site-packages/botocore/handlers.py\u001b[0m in \u001b[0;36mvalidate_bucket_name\u001b[0;34m(params, **kwargs)\u001b[0m\n\u001b[1;32m    236\u001b[0m         \u001b[0;32mreturn\u001b[0m\u001b[0;34m\u001b[0m\u001b[0;34m\u001b[0m\u001b[0m\n\u001b[1;32m    237\u001b[0m     \u001b[0mbucket\u001b[0m \u001b[0;34m=\u001b[0m \u001b[0mparams\u001b[0m\u001b[0;34m[\u001b[0m\u001b[0;34m'Bucket'\u001b[0m\u001b[0;34m]\u001b[0m\u001b[0;34m\u001b[0m\u001b[0;34m\u001b[0m\u001b[0m\n\u001b[0;32m--> 238\u001b[0;31m     \u001b[0;32mif\u001b[0m \u001b[0;32mnot\u001b[0m \u001b[0mVALID_BUCKET\u001b[0m\u001b[0;34m.\u001b[0m\u001b[0msearch\u001b[0m\u001b[0;34m(\u001b[0m\u001b[0mbucket\u001b[0m\u001b[0;34m)\u001b[0m \u001b[0;32mand\u001b[0m \u001b[0;32mnot\u001b[0m \u001b[0mVALID_S3_ARN\u001b[0m\u001b[0;34m.\u001b[0m\u001b[0msearch\u001b[0m\u001b[0;34m(\u001b[0m\u001b[0mbucket\u001b[0m\u001b[0;34m)\u001b[0m\u001b[0;34m:\u001b[0m\u001b[0;34m\u001b[0m\u001b[0;34m\u001b[0m\u001b[0m\n\u001b[0m\u001b[1;32m    239\u001b[0m         error_msg = (\n\u001b[1;32m    240\u001b[0m             \u001b[0;34m'Invalid bucket name \"%s\": Bucket name must match '\u001b[0m\u001b[0;34m\u001b[0m\u001b[0;34m\u001b[0m\u001b[0m\n",
      "\u001b[0;31mTypeError\u001b[0m: expected string or bytes-like object"
     ]
    }
   ],
   "source": [
    "response = s3_client.get_object(Bucket=AWS_S3_BUCKET, Key=\"https://data.aws.insitro.com/s3/insitro-user/haoyang/scratch/alldata.csv\")\n"
   ]
  },
  {
   "cell_type": "code",
   "execution_count": null,
   "id": "1c17a2ff",
   "metadata": {},
   "outputs": [],
   "source": [
    "bucket, filename = \"bucket_name\", \"filename.csv\"\n",
    "\n",
    "s3 = boto3.resource('s3')\n",
    "obj = s3.Object(bucket, filename)\n",
    "with BytesIO(obj.get()['Body'].read()) as bio:\n",
    "    df = pd.read_csv(bio)"
   ]
  },
  {
   "cell_type": "code",
   "execution_count": 6,
   "id": "ea91473b",
   "metadata": {},
   "outputs": [
    {
     "name": "stderr",
     "output_type": "stream",
     "text": [
      "/tmp/ipykernel_1808/767587533.py:1: FutureWarning: The error_bad_lines argument has been deprecated and will be removed in a future version. Use on_bad_lines in the future.\n",
      "\n",
      "\n",
      "  hnil_diff = pd.read_csv(\"https://data.aws.insitro.com/s3/insitro-user/haoyang/scratch/alldata.csv\", error_bad_lines=False)\n",
      "b'Skipping line 6: expected 1 fields, saw 2\\nSkipping line 24: expected 1 fields, saw 2\\nSkipping line 41: expected 1 fields, saw 2\\nSkipping line 42: expected 1 fields, saw 2\\nSkipping line 55: expected 1 fields, saw 2\\nSkipping line 56: expected 1 fields, saw 2\\nSkipping line 58: expected 1 fields, saw 2\\nSkipping line 61: expected 1 fields, saw 2\\nSkipping line 62: expected 1 fields, saw 2\\nSkipping line 83: expected 1 fields, saw 2\\nSkipping line 84: expected 1 fields, saw 2\\nSkipping line 85: expected 1 fields, saw 2\\nSkipping line 86: expected 1 fields, saw 2\\nSkipping line 87: expected 1 fields, saw 2\\nSkipping line 108: expected 1 fields, saw 2\\nSkipping line 109: expected 1 fields, saw 2\\nSkipping line 110: expected 1 fields, saw 2\\nSkipping line 111: expected 1 fields, saw 2\\nSkipping line 112: expected 1 fields, saw 2\\nSkipping line 116: expected 1 fields, saw 4\\nSkipping line 117: expected 1 fields, saw 4\\nSkipping line 118: expected 1 fields, saw 4\\nSkipping line 120: expected 1 fields, saw 2\\nSkipping line 121: expected 1 fields, saw 2\\nSkipping line 122: expected 1 fields, saw 2\\nSkipping line 123: expected 1 fields, saw 2\\nSkipping line 124: expected 1 fields, saw 2\\nSkipping line 128: expected 1 fields, saw 4\\nSkipping line 129: expected 1 fields, saw 4\\nSkipping line 130: expected 1 fields, saw 4\\nSkipping line 132: expected 1 fields, saw 2\\nSkipping line 151: expected 1 fields, saw 2\\nSkipping line 157: expected 1 fields, saw 4\\nSkipping line 158: expected 1 fields, saw 4\\nSkipping line 159: expected 1 fields, saw 4\\nSkipping line 168: expected 1 fields, saw 2\\nSkipping line 203: expected 1 fields, saw 2\\nSkipping line 204: expected 1 fields, saw 4\\nSkipping line 210: expected 1 fields, saw 2\\nSkipping line 211: expected 1 fields, saw 2\\nSkipping line 212: expected 1 fields, saw 2\\nSkipping line 213: expected 1 fields, saw 2\\nSkipping line 214: expected 1 fields, saw 2\\nSkipping line 215: expected 1 fields, saw 2\\nSkipping line 261: expected 1 fields, saw 2\\nSkipping line 374: expected 1 fields, saw 4\\nSkipping line 375: expected 1 fields, saw 4\\nSkipping line 376: expected 1 fields, saw 4\\nSkipping line 381: expected 1 fields, saw 2\\nSkipping line 401: expected 1 fields, saw 3\\nSkipping line 402: expected 1 fields, saw 3\\nSkipping line 403: expected 1 fields, saw 3\\nSkipping line 404: expected 1 fields, saw 3\\nSkipping line 405: expected 1 fields, saw 3\\nSkipping line 416: expected 1 fields, saw 2\\nSkipping line 432: expected 1 fields, saw 3\\nSkipping line 433: expected 1 fields, saw 3\\nSkipping line 434: expected 1 fields, saw 3\\nSkipping line 435: expected 1 fields, saw 3\\nSkipping line 436: expected 1 fields, saw 3\\nSkipping line 437: expected 1 fields, saw 4\\nSkipping line 438: expected 1 fields, saw 4\\nSkipping line 439: expected 1 fields, saw 4\\nSkipping line 443: expected 1 fields, saw 3\\nSkipping line 444: expected 1 fields, saw 3\\nSkipping line 445: expected 1 fields, saw 3\\nSkipping line 446: expected 1 fields, saw 3\\nSkipping line 447: expected 1 fields, saw 3\\nSkipping line 448: expected 1 fields, saw 4\\nSkipping line 449: expected 1 fields, saw 4\\nSkipping line 450: expected 1 fields, saw 4\\nSkipping line 452: expected 1 fields, saw 2\\nSkipping line 456: expected 1 fields, saw 4\\nSkipping line 458: expected 1 fields, saw 3\\nSkipping line 459: expected 1 fields, saw 3\\nSkipping line 460: expected 1 fields, saw 3\\nSkipping line 461: expected 1 fields, saw 3\\nSkipping line 462: expected 1 fields, saw 3\\nSkipping line 467: expected 1 fields, saw 4\\nSkipping line 469: expected 1 fields, saw 3\\nSkipping line 470: expected 1 fields, saw 3\\nSkipping line 471: expected 1 fields, saw 3\\nSkipping line 472: expected 1 fields, saw 3\\nSkipping line 473: expected 1 fields, saw 3\\nSkipping line 477: expected 1 fields, saw 3\\nSkipping line 478: expected 1 fields, saw 3\\nSkipping line 479: expected 1 fields, saw 3\\nSkipping line 480: expected 1 fields, saw 3\\nSkipping line 481: expected 1 fields, saw 3\\nSkipping line 482: expected 1 fields, saw 4\\nSkipping line 483: expected 1 fields, saw 4\\nSkipping line 484: expected 1 fields, saw 4\\nSkipping line 486: expected 1 fields, saw 2\\nSkipping line 490: expected 1 fields, saw 4\\nSkipping line 492: expected 1 fields, saw 3\\nSkipping line 493: expected 1 fields, saw 3\\nSkipping line 494: expected 1 fields, saw 3\\nSkipping line 495: expected 1 fields, saw 3\\nSkipping line 496: expected 1 fields, saw 3\\nSkipping line 501: expected 1 fields, saw 4\\nSkipping line 503: expected 1 fields, saw 3\\nSkipping line 504: expected 1 fields, saw 3\\nSkipping line 505: expected 1 fields, saw 3\\nSkipping line 506: expected 1 fields, saw 3\\nSkipping line 507: expected 1 fields, saw 3\\nSkipping line 512: expected 1 fields, saw 3\\nSkipping line 513: expected 1 fields, saw 3\\nSkipping line 514: expected 1 fields, saw 3\\nSkipping line 515: expected 1 fields, saw 3\\nSkipping line 516: expected 1 fields, saw 3\\nSkipping line 517: expected 1 fields, saw 4\\nSkipping line 518: expected 1 fields, saw 4\\nSkipping line 519: expected 1 fields, saw 4\\nSkipping line 525: expected 1 fields, saw 2\\nSkipping line 537: expected 1 fields, saw 2\\nSkipping line 564: expected 1 fields, saw 4\\nSkipping line 590: expected 1 fields, saw 2\\nSkipping line 599: expected 1 fields, saw 2\\nSkipping line 632: expected 1 fields, saw 2\\nSkipping line 633: expected 1 fields, saw 2\\nSkipping line 634: expected 1 fields, saw 2\\nSkipping line 645: expected 1 fields, saw 2\\nSkipping line 646: expected 1 fields, saw 2\\nSkipping line 679: expected 1 fields, saw 2\\nSkipping line 693: expected 1 fields, saw 2\\nSkipping line 701: expected 1 fields, saw 2\\nSkipping line 711: expected 1 fields, saw 2\\nSkipping line 715: expected 1 fields, saw 2\\nSkipping line 716: expected 1 fields, saw 2\\nSkipping line 717: expected 1 fields, saw 2\\nSkipping line 740: expected 1 fields, saw 4\\nSkipping line 758: expected 1 fields, saw 2\\nSkipping line 759: expected 1 fields, saw 2\\nSkipping line 760: expected 1 fields, saw 2\\nSkipping line 781: expected 1 fields, saw 4\\nSkipping line 782: expected 1 fields, saw 4\\nSkipping line 783: expected 1 fields, saw 4\\nSkipping line 802: expected 1 fields, saw 2\\nSkipping line 830: expected 1 fields, saw 2\\nSkipping line 857: expected 1 fields, saw 2\\nSkipping line 864: expected 1 fields, saw 2\\nSkipping line 881: expected 1 fields, saw 2\\nSkipping line 886: expected 1 fields, saw 2\\nSkipping line 915: expected 1 fields, saw 2\\nSkipping line 985: expected 1 fields, saw 2\\nSkipping line 988: expected 1 fields, saw 2\\nSkipping line 989: expected 1 fields, saw 2\\nSkipping line 990: expected 1 fields, saw 2\\nSkipping line 991: expected 1 fields, saw 2\\nSkipping line 992: expected 1 fields, saw 2\\nSkipping line 998: expected 1 fields, saw 4\\nSkipping line 999: expected 1 fields, saw 4\\nSkipping line 1000: expected 1 fields, saw 4\\nSkipping line 1001: expected 1 fields, saw 4\\nSkipping line 1002: expected 1 fields, saw 4\\nSkipping line 1005: expected 1 fields, saw 3\\nSkipping line 1006: expected 1 fields, saw 3\\nSkipping line 1007: expected 1 fields, saw 3\\nSkipping line 1008: expected 1 fields, saw 3\\nSkipping line 1009: expected 1 fields, saw 3\\nSkipping line 1013: expected 1 fields, saw 3\\nSkipping line 1014: expected 1 fields, saw 3\\nSkipping line 1015: expected 1 fields, saw 3\\nSkipping line 1016: expected 1 fields, saw 3\\nSkipping line 1017: expected 1 fields, saw 3\\nSkipping line 1020: expected 1 fields, saw 3\\nSkipping line 1021: expected 1 fields, saw 3\\nSkipping line 1022: expected 1 fields, saw 3\\nSkipping line 1023: expected 1 fields, saw 3\\nSkipping line 1024: expected 1 fields, saw 3\\nSkipping line 1028: expected 1 fields, saw 3\\nSkipping line 1029: expected 1 fields, saw 3\\nSkipping line 1030: expected 1 fields, saw 3\\nSkipping line 1031: expected 1 fields, saw 3\\nSkipping line 1032: expected 1 fields, saw 3\\nSkipping line 1035: expected 1 fields, saw 3\\nSkipping line 1036: expected 1 fields, saw 3\\nSkipping line 1037: expected 1 fields, saw 3\\nSkipping line 1038: expected 1 fields, saw 3\\nSkipping line 1039: expected 1 fields, saw 3\\nSkipping line 1100: expected 1 fields, saw 3\\nSkipping line 1149: expected 1 fields, saw 4\\nSkipping line 1150: expected 1 fields, saw 4\\nSkipping line 1151: expected 1 fields, saw 4\\nSkipping line 1152: expected 1 fields, saw 4\\nSkipping line 1153: expected 1 fields, saw 4\\nSkipping line 1689: expected 1 fields, saw 2\\nSkipping line 1692: expected 1 fields, saw 3\\nSkipping line 1702: expected 1 fields, saw 2\\nSkipping line 1715: expected 1 fields, saw 2\\nSkipping line 1722: expected 1 fields, saw 2\\nSkipping line 1724: expected 1 fields, saw 2\\nSkipping line 1725: expected 1 fields, saw 2\\nSkipping line 1730: expected 1 fields, saw 2\\nSkipping line 1731: expected 1 fields, saw 2\\nSkipping line 1732: expected 1 fields, saw 2\\nSkipping line 1764: expected 1 fields, saw 2\\nSkipping line 1768: expected 1 fields, saw 2\\nSkipping line 1782: expected 1 fields, saw 3\\nSkipping line 1784: expected 1 fields, saw 3\\nSkipping line 1786: expected 1 fields, saw 2\\nSkipping line 1790: expected 1 fields, saw 3053\\nSkipping line 1791: expected 1 fields, saw 2\\nSkipping line 1852: expected 1 fields, saw 2\\nSkipping line 1877: expected 1 fields, saw 3\\n'\n"
     ]
    }
   ],
   "source": [
    "hnil_diff = pd.read_csv(\"https://data.aws.insitro.com/s3/insitro-user/haoyang/scratch/alldata.csv\", error_bad_lines=False)"
   ]
  },
  {
   "cell_type": "code",
   "execution_count": 7,
   "id": "c3e80f4e",
   "metadata": {},
   "outputs": [
    {
     "data": {
      "text/html": [
       "<div>\n",
       "<style scoped>\n",
       "    .dataframe tbody tr th:only-of-type {\n",
       "        vertical-align: middle;\n",
       "    }\n",
       "\n",
       "    .dataframe tbody tr th {\n",
       "        vertical-align: top;\n",
       "    }\n",
       "\n",
       "    .dataframe thead th {\n",
       "        text-align: right;\n",
       "    }\n",
       "</style>\n",
       "<table border=\"1\" class=\"dataframe\">\n",
       "  <thead>\n",
       "    <tr style=\"text-align: right;\">\n",
       "      <th></th>\n",
       "      <th>&lt;!DOCTYPE html&gt;</th>\n",
       "    </tr>\n",
       "  </thead>\n",
       "  <tbody>\n",
       "    <tr>\n",
       "      <th>0</th>\n",
       "      <td>&lt;html lang=\"en\"&gt;</td>\n",
       "    </tr>\n",
       "    <tr>\n",
       "      <th>1</th>\n",
       "      <td>&lt;head&gt;</td>\n",
       "    </tr>\n",
       "    <tr>\n",
       "      <th>2</th>\n",
       "      <td>&lt;meta charset=\"utf-8\"&gt;</td>\n",
       "    </tr>\n",
       "    <tr>\n",
       "      <th>3</th>\n",
       "      <td>&lt;meta name=\"google-site-verification\" conten...</td>\n",
       "    </tr>\n",
       "    <tr>\n",
       "      <th>4</th>\n",
       "      <td>&lt;title&gt;Sign in - Google Accounts&lt;/title&gt;</td>\n",
       "    </tr>\n",
       "    <tr>\n",
       "      <th>...</th>\n",
       "      <td>...</td>\n",
       "    </tr>\n",
       "    <tr>\n",
       "      <th>1650</th>\n",
       "      <td>});</td>\n",
       "    </tr>\n",
       "    <tr>\n",
       "      <th>1651</th>\n",
       "      <td>})();</td>\n",
       "    </tr>\n",
       "    <tr>\n",
       "      <th>1652</th>\n",
       "      <td>&lt;/script&gt;</td>\n",
       "    </tr>\n",
       "    <tr>\n",
       "      <th>1653</th>\n",
       "      <td>&lt;/body&gt;</td>\n",
       "    </tr>\n",
       "    <tr>\n",
       "      <th>1654</th>\n",
       "      <td>&lt;/html&gt;</td>\n",
       "    </tr>\n",
       "  </tbody>\n",
       "</table>\n",
       "<p>1655 rows × 1 columns</p>\n",
       "</div>"
      ],
      "text/plain": [
       "                                        <!DOCTYPE html>\n",
       "0                                      <html lang=\"en\">\n",
       "1                                                <head>\n",
       "2                                <meta charset=\"utf-8\">\n",
       "3       <meta name=\"google-site-verification\" conten...\n",
       "4              <title>Sign in - Google Accounts</title>\n",
       "...                                                 ...\n",
       "1650                                                });\n",
       "1651                                              })();\n",
       "1652                                          </script>\n",
       "1653                                            </body>\n",
       "1654                                            </html>\n",
       "\n",
       "[1655 rows x 1 columns]"
      ]
     },
     "execution_count": 7,
     "metadata": {},
     "output_type": "execute_result"
    }
   ],
   "source": [
    "hnil_diff"
   ]
  }
 ],
 "metadata": {
  "kernelspec": {
   "display_name": "Python 3 (ipykernel)",
   "language": "python",
   "name": "python3"
  },
  "language_info": {
   "codemirror_mode": {
    "name": "ipython",
    "version": 3
   },
   "file_extension": ".py",
   "mimetype": "text/x-python",
   "name": "python",
   "nbconvert_exporter": "python",
   "pygments_lexer": "ipython3",
   "version": "3.9.12"
  }
 },
 "nbformat": 4,
 "nbformat_minor": 5
}
