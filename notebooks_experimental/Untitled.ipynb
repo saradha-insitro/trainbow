{
 "cells": [
  {
   "cell_type": "code",
   "execution_count": 19,
   "id": "bd776a41",
   "metadata": {},
   "outputs": [],
   "source": [
    "from dask import dataframe as dd\n"
   ]
  },
  {
   "cell_type": "code",
   "execution_count": 20,
   "id": "53969733",
   "metadata": {},
   "outputs": [],
   "source": [
    "ddf = dd.read_csv('s3://insitro-user/haoyang/scratch/alldata.csv')\n"
   ]
  },
  {
   "cell_type": "code",
   "execution_count": null,
   "id": "2fca4d6b",
   "metadata": {},
   "outputs": [],
   "source": [
    "df = ddf.compute()\n"
   ]
  },
  {
   "cell_type": "code",
   "execution_count": null,
   "id": "d0a13fcd",
   "metadata": {},
   "outputs": [],
   "source": []
  }
 ],
 "metadata": {
  "kernelspec": {
   "display_name": "Python 3 (ipykernel)",
   "language": "python",
   "name": "python3"
  },
  "language_info": {
   "codemirror_mode": {
    "name": "ipython",
    "version": 3
   },
   "file_extension": ".py",
   "mimetype": "text/x-python",
   "name": "python",
   "nbconvert_exporter": "python",
   "pygments_lexer": "ipython3",
   "version": "3.9.12"
  }
 },
 "nbformat": 4,
 "nbformat_minor": 5
}
