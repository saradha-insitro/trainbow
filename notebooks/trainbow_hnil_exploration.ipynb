{
 "cells": [
  {
   "cell_type": "markdown",
   "id": "c8abd6c8",
   "metadata": {},
   "source": [
    "# Exploring the trainbow hNILs"
   ]
  },
  {
   "cell_type": "markdown",
   "id": "4d0b0b0a",
   "metadata": {},
   "source": [
    "## 1. Environment set up"
   ]
  },
  {
   "cell_type": "markdown",
   "id": "065aeb9f",
   "metadata": {},
   "source": [
    "Read in the required libraries"
   ]
  },
  {
   "cell_type": "code",
   "execution_count": 1,
   "id": "7c476ce2",
   "metadata": {},
   "outputs": [],
   "source": [
    "%reload_ext autoreload\n",
    "import sys\n",
    "sys.path.append(\"../\")\n",
    "\n",
    "import numpy as np\n",
    "import pandas as pd\n",
    "import matplotlib.pyplot as plt\n",
    "import os\n",
    "\n",
    "from trainbow.utils import database_utils\n",
    "from trainbow.batch.feature_extracter import extract_image_features_batch\n"
   ]
  },
  {
   "cell_type": "markdown",
   "id": "e7b3e765",
   "metadata": {},
   "source": [
    "Set up the experiment specific information"
   ]
  },
  {
   "cell_type": "code",
   "execution_count": 2,
   "id": "e430062d",
   "metadata": {},
   "outputs": [],
   "source": [
    "microscope_id = 6 # techdev scope or nikon 4\n",
    "#Fluroscent map\n",
    "channel_map ={\n",
    "    'DAPI':1,\n",
    "    'eGFP':2,\n",
    "    'mOrange':0,\n",
    "    'mKate2':3,\n",
    "    'DPC_top':4,\n",
    "    'DPC_bottom':5,\n",
    "    'DPC_left':6,\n",
    "    'DPC_right':7\n",
    "}\n",
    "plate1_well_map = {\n",
    "            \"Mix\" : ['A01','A02'],\n",
    "            \"Control\" : ['A03','A04'],\n",
    "    \n",
    "            \"CA137_0ng\" : ['B01'],\n",
    "            \"CA137_250ng\" : ['B02'],\n",
    "            \"CA137_500ng\" : ['B03'],\n",
    "            \"CA137_1000ng\" : ['B04'],\n",
    "            \n",
    "            \"CM137_0ng\" : ['C01'],\n",
    "            \"CM137_250ng\" : ['C02'],\n",
    "            \"CM137_500ng\" : ['C03'],\n",
    "            \"CM137_1000ng\" : ['C04'],\n",
    "            \n",
    "}\n",
    "\n",
    "plate2_well_map = {\n",
    "            \"CD118_0ng\" : ['A01'],\n",
    "            \"CD118_250ng\" : ['A02'],\n",
    "            \"CD118_500ng\" : ['A03'],\n",
    "            \"CD118_1000ng\" : ['A04'],\n",
    "            \n",
    "            \"CM130_0ng\" : ['B01'],\n",
    "            \"CM130_250ng\" : ['B02'],\n",
    "            \"CM130_500ng\" : ['B03'],\n",
    "            \"CM130_1000ng\" : ['B04'],\n",
    "    \n",
    "            \"Cre-TAT\" : ['C01'],\n",
    "            \"Mix\" : ['C02','C03','C04'],\n",
    "    \n",
    "            \n",
    "}\n",
    "\n",
    "bucket = 's3://insitro-user/'\n",
    "output_dir = os.path.join(bucket,'saradha/trainbow_hnil_from_cre_ipsc')\n"
   ]
  },
  {
   "cell_type": "code",
   "execution_count": null,
   "id": "37e8eaad",
   "metadata": {},
   "outputs": [
    {
     "name": "stdout",
     "output_type": "stream",
     "text": [
      "For the plate id PB2454, 1 unique measurements were found\n",
      "Using 15 cpus\n",
      "computing image level brainbow features\n"
     ]
    },
    {
     "name": "stderr",
     "output_type": "stream",
     "text": [
      " 20%|███████▉                                | 356/1788 [06:19<26:38,  1.12s/it]"
     ]
    }
   ],
   "source": [
    "plate_id = 'PB2454' #plate id\n",
    "\n",
    "#prepare acquiaition dataframe\n",
    "experiment_acquisition = database_utils.create_acquistion_df(plate_id,microscope_id)\n",
    "#drop duplicate file paths - keeping only the last row\n",
    "experiment_acquisition = experiment_acquisition.drop_duplicates(subset='file_path', keep=\"last\")\n",
    "#extract image features\n",
    "features =  extract_image_features_batch(acquisition_df = experiment_acquisition,\n",
    "                                          channel_map = channel_map,\n",
    "                                          num_cpus = 15)\n",
    "features_PB2454 = pd.concat(features)\n",
    "database_utils.save_object(features_PB2454,os.path.join(output_dir,\"image_colorspace_PB2454.pkl\"))\n"
   ]
  },
  {
   "cell_type": "code",
   "execution_count": null,
   "id": "c84a29c2",
   "metadata": {},
   "outputs": [],
   "source": [
    "plate_id = 'PB2455' #plate id\n",
    "\n",
    "#prepare acquiaition dataframe\n",
    "experiment_acquisition = utils.database_utils.create_acquistion_df(plate_id,microscope_id)\n",
    "#drop duplicate file paths - keeping only the last row\n",
    "experiment_acquisition = experiment_acquisition.drop_duplicates(subset='file_path', keep=\"last\")\n",
    "#extract image features\n",
    "features =  extract_image_features_batch(acquisition_df = experiment_acquisition,\n",
    "                                          channel_map = channel_map,\n",
    "                                          num_cpus = 15)\n",
    "features_PB2455 = pd.concat(features)\n",
    "database_utils.save_object(features_PB2455,os.path.join(output_dir,\"image_colorspace_PB2455.pkl\"))\n"
   ]
  },
  {
   "cell_type": "code",
   "execution_count": null,
   "id": "2dc55dfa",
   "metadata": {},
   "outputs": [],
   "source": [
    "plate_id = 'PB2519' #plate id\n",
    "\n",
    "#prepare acquiaition dataframe\n",
    "experiment_acquisition = utils.database_utils.create_acquistion_df(plate_id,microscope_id)\n",
    "#drop duplicate file paths - keeping only the last row\n",
    "experiment_acquisition = experiment_acquisition.drop_duplicates(subset='file_path', keep=\"last\")\n",
    "# extract image features\n",
    "features =  extract_image_features_batch(acquisition_df = experiment_acquisition,\n",
    "                                          channel_map = channel_map,\n",
    "                                          num_cpus = 15)\n",
    "features_PB2519 = pd.concat(features)\n",
    "database_utils.save_object(features_PB2519,os.path.join(output_dir,\"image_colorspace_PB2519.pkl\"))\n"
   ]
  },
  {
   "cell_type": "code",
   "execution_count": null,
   "id": "6e48ba29",
   "metadata": {},
   "outputs": [],
   "source": [
    "plate_id = 'PB2518' #plate id\n",
    "\n",
    "#prepare acquiaition dataframe\n",
    "experiment_acquisition = utils.database_utils.create_acquistion_df(plate_id,microscope_id)\n",
    "#drop duplicate file paths - keeping only the last row\n",
    "experiment_acquisition = experiment_acquisition.drop_duplicates(subset='file_path', keep=\"last\")\n",
    "# extract image features\n",
    "features =  extract_image_features_batch(acquisition_df = experiment_acquisition,\n",
    "                                          channel_map = channel_map,\n",
    "                                          num_cpus = 15)\n",
    "features_PB2518 = pd.concat(features)\n",
    "database_utils.save_object(features_PB2518,os.path.join(output_dir,\"image_colorspace_PB2518.pkl\"))\n"
   ]
  },
  {
   "cell_type": "code",
   "execution_count": null,
   "id": "4d31be39",
   "metadata": {},
   "outputs": [],
   "source": []
  }
 ],
 "metadata": {
  "kernelspec": {
   "display_name": "Python 3 (ipykernel)",
   "language": "python",
   "name": "python3"
  },
  "language_info": {
   "codemirror_mode": {
    "name": "ipython",
    "version": 3
   },
   "file_extension": ".py",
   "mimetype": "text/x-python",
   "name": "python",
   "nbconvert_exporter": "python",
   "pygments_lexer": "ipython3",
   "version": "3.9.13"
  }
 },
 "nbformat": 4,
 "nbformat_minor": 5
}
