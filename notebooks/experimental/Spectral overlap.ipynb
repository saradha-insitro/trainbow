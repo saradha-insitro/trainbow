{
 "cells": [
  {
   "cell_type": "code",
   "execution_count": 1,
   "id": "69d55d67",
   "metadata": {},
   "outputs": [],
   "source": [
    "import pandas as pd\n",
    "import numpy as np\n",
    "import matplotlib.pyplot as plt\n",
    "import seaborn as sns\n"
   ]
  },
  {
   "cell_type": "code",
   "execution_count": null,
   "id": "47082701",
   "metadata": {},
   "outputs": [],
   "source": [
    "https://www.fpbase.org/spectra_csv/?q=1689,1690"
   ]
  },
  {
   "cell_type": "markdown",
   "id": "1e81aa62",
   "metadata": {},
   "source": [
    "The EFFICIENCY tab is a special tab for calculating the collection efficiency for every pair of fluorophore emission and filter.  (This is sometimes called the \"spillover table\" in other spectra viewers).  The values in the table represent the percentage of total fluorescence emission of a given fluorophore that is predicted to be collected by a given filter.  It is calculated as follows:\n",
    "\n",
    "where  and  are the emission filter and fluorophore emission spectra (respectively) as a function of wavelength."
   ]
  },
  {
   "cell_type": "code",
   "execution_count": 2,
   "id": "46792e33",
   "metadata": {},
   "outputs": [],
   "source": [
    "egfp = pd.read_csv('s3://insitro-user/saradha/spectra/flurophores/fpbase_EGFP.csv',)\n",
    "mkate2 = pd.read_csv('s3://insitro-user/saradha/spectra/flurophores/fpbase_mkate2.csv',)\n",
    "mOrange = pd.read_csv('s3://insitro-user/saradha/spectra/flurophores/fpbase_mOrange.csv',)\n",
    "\n",
    "\n",
    "filter_475 = pd.read_csv('s3://insitro-user/saradha/spectra/filters/chroma_s_475_20.csv',)\n",
    "filter_535 = pd.read_csv('s3://insitro-user/saradha/spectra/filters/chroma_et_525_50.csv',)\n",
    "filter_632 = pd.read_csv('s3://insitro-user/saradha/spectra/filters/chroma_et_632_60.csv',)\n",
    "filter_667 = pd.read_csv('s3://insitro-user/saradha/spectra/filters/chroma_et_667_30.csv',)"
   ]
  },
  {
   "cell_type": "code",
   "execution_count": 55,
   "id": "e0571427",
   "metadata": {},
   "outputs": [
    {
     "data": {
      "text/html": [
       "<div>\n",
       "<style scoped>\n",
       "    .dataframe tbody tr th:only-of-type {\n",
       "        vertical-align: middle;\n",
       "    }\n",
       "\n",
       "    .dataframe tbody tr th {\n",
       "        vertical-align: top;\n",
       "    }\n",
       "\n",
       "    .dataframe thead th {\n",
       "        text-align: right;\n",
       "    }\n",
       "</style>\n",
       "<table border=\"1\" class=\"dataframe\">\n",
       "  <thead>\n",
       "    <tr style=\"text-align: right;\">\n",
       "      <th></th>\n",
       "      <th>wavelength</th>\n",
       "      <th>Chroma ET525/50m</th>\n",
       "    </tr>\n",
       "  </thead>\n",
       "  <tbody>\n",
       "    <tr>\n",
       "      <th>0</th>\n",
       "      <td>300</td>\n",
       "      <td>9.500000e-07</td>\n",
       "    </tr>\n",
       "    <tr>\n",
       "      <th>1</th>\n",
       "      <td>301</td>\n",
       "      <td>9.500000e-07</td>\n",
       "    </tr>\n",
       "    <tr>\n",
       "      <th>2</th>\n",
       "      <td>302</td>\n",
       "      <td>9.500000e-07</td>\n",
       "    </tr>\n",
       "    <tr>\n",
       "      <th>3</th>\n",
       "      <td>303</td>\n",
       "      <td>9.500000e-07</td>\n",
       "    </tr>\n",
       "    <tr>\n",
       "      <th>4</th>\n",
       "      <td>304</td>\n",
       "      <td>9.500000e-07</td>\n",
       "    </tr>\n",
       "    <tr>\n",
       "      <th>...</th>\n",
       "      <td>...</td>\n",
       "      <td>...</td>\n",
       "    </tr>\n",
       "    <tr>\n",
       "      <th>896</th>\n",
       "      <td>1196</td>\n",
       "      <td>1.953230e-02</td>\n",
       "    </tr>\n",
       "    <tr>\n",
       "      <th>897</th>\n",
       "      <td>1197</td>\n",
       "      <td>1.845120e-02</td>\n",
       "    </tr>\n",
       "    <tr>\n",
       "      <th>898</th>\n",
       "      <td>1198</td>\n",
       "      <td>1.747260e-02</td>\n",
       "    </tr>\n",
       "    <tr>\n",
       "      <th>899</th>\n",
       "      <td>1199</td>\n",
       "      <td>1.661380e-02</td>\n",
       "    </tr>\n",
       "    <tr>\n",
       "      <th>900</th>\n",
       "      <td>1200</td>\n",
       "      <td>1.577090e-02</td>\n",
       "    </tr>\n",
       "  </tbody>\n",
       "</table>\n",
       "<p>901 rows × 2 columns</p>\n",
       "</div>"
      ],
      "text/plain": [
       "     wavelength  Chroma ET525/50m\n",
       "0           300      9.500000e-07\n",
       "1           301      9.500000e-07\n",
       "2           302      9.500000e-07\n",
       "3           303      9.500000e-07\n",
       "4           304      9.500000e-07\n",
       "..          ...               ...\n",
       "896        1196      1.953230e-02\n",
       "897        1197      1.845120e-02\n",
       "898        1198      1.747260e-02\n",
       "899        1199      1.661380e-02\n",
       "900        1200      1.577090e-02\n",
       "\n",
       "[901 rows x 2 columns]"
      ]
     },
     "execution_count": 55,
     "metadata": {},
     "output_type": "execute_result"
    }
   ],
   "source": [
    "filter_535"
   ]
  },
  {
   "cell_type": "code",
   "execution_count": 36,
   "id": "d2c48b16",
   "metadata": {},
   "outputs": [
    {
     "data": {
      "text/plain": [
       "0.9258099190316529"
      ]
     },
     "execution_count": 36,
     "metadata": {},
     "output_type": "execute_result"
    }
   ],
   "source": [
    "filter_475.rename(columns={'Wavelength': 'wavelength'}, inplace=True)\n",
    "merge_data = pd.merge(egfp.iloc[:,[0,2]],filter_475.iloc[:,[0,1]], on='wavelength')\n",
    "merge_data = merge_data.fillna(0)\n",
    "np.sum(merge_data.iloc[:,1]*merge_data.iloc[:,2])/np.sum(merge_data.iloc[:,1])*100"
   ]
  },
  {
   "cell_type": "code",
   "execution_count": 35,
   "id": "a179d0c1",
   "metadata": {},
   "outputs": [
    {
     "data": {
      "text/plain": [
       "66.92896340762258"
      ]
     },
     "execution_count": 35,
     "metadata": {},
     "output_type": "execute_result"
    }
   ],
   "source": [
    "filter_535.rename(columns={'Wavelength': 'wavelength'}, inplace=True)\n",
    "merge_data = pd.merge(egfp.iloc[:,[0,2]],filter_535.iloc[:,[0,1]], on='wavelength')\n",
    "merge_data = merge_data.fillna(0)\n",
    "np.sum(merge_data.iloc[:,1]*merge_data.iloc[:,2])/np.sum(merge_data.iloc[:,1])*100"
   ]
  },
  {
   "cell_type": "code",
   "execution_count": 37,
   "id": "ba61dbd3",
   "metadata": {},
   "outputs": [
    {
     "data": {
      "text/plain": [
       "2.0223544134745053"
      ]
     },
     "execution_count": 37,
     "metadata": {},
     "output_type": "execute_result"
    }
   ],
   "source": [
    "filter_632.rename(columns={'Wavelength': 'wavelength'}, inplace=True)\n",
    "merge_data = pd.merge(egfp.iloc[:,[0,2]],filter_632.iloc[:,[0,1]], on='wavelength')\n",
    "merge_data = merge_data.fillna(0)\n",
    "np.sum(merge_data.iloc[:,1]*merge_data.iloc[:,2])/np.sum(merge_data.iloc[:,1])*100"
   ]
  },
  {
   "cell_type": "code",
   "execution_count": 38,
   "id": "eddf5a79",
   "metadata": {},
   "outputs": [
    {
     "data": {
      "text/plain": [
       "0.47355361097070986"
      ]
     },
     "execution_count": 38,
     "metadata": {},
     "output_type": "execute_result"
    }
   ],
   "source": [
    "filter_667.rename(columns={'Wavelength': 'wavelength'}, inplace=True)\n",
    "merge_data = pd.merge(egfp.iloc[:,[0,2]],filter_667.iloc[:,[0,1]], on='wavelength')\n",
    "merge_data = merge_data.fillna(0)\n",
    "np.sum(merge_data.iloc[:,1]*merge_data.iloc[:,2])/np.sum(merge_data.iloc[:,1])*100"
   ]
  },
  {
   "cell_type": "code",
   "execution_count": 5,
   "id": "e894fff8",
   "metadata": {},
   "outputs": [
    {
     "name": "stdout",
     "output_type": "stream",
     "text": [
      "0.621815183147591\n",
      "0.0024099999390993\n",
      "0.0024899999370777\n"
     ]
    }
   ],
   "source": [
    "print(np.sum(np.minimum(egfp.iloc[:,2],filter_475.iloc[:,1])))\n",
    "print(np.sum(np.minimum(mkate2.iloc[:,2],filter_475.iloc[:,1])))\n",
    "print(np.sum(np.minimum(mOrange.iloc[:,2],filter_475.iloc[:,1])))"
   ]
  },
  {
   "cell_type": "code",
   "execution_count": null,
   "id": "d13aeffb",
   "metadata": {},
   "outputs": [],
   "source": []
  }
 ],
 "metadata": {
  "kernelspec": {
   "display_name": "Python 3 (ipykernel)",
   "language": "python",
   "name": "python3"
  },
  "language_info": {
   "codemirror_mode": {
    "name": "ipython",
    "version": 3
   },
   "file_extension": ".py",
   "mimetype": "text/x-python",
   "name": "python",
   "nbconvert_exporter": "python",
   "pygments_lexer": "ipython3",
   "version": "3.9.13"
  }
 },
 "nbformat": 4,
 "nbformat_minor": 5
}
