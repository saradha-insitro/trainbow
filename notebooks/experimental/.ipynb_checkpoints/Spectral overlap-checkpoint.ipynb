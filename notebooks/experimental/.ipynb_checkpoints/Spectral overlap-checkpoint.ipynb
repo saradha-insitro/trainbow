{
 "cells": [
  {
   "cell_type": "code",
   "execution_count": 16,
   "id": "69d55d67",
   "metadata": {},
   "outputs": [],
   "source": [
    "import pandas as pd\n",
    "import numpy as np\n",
    "import matplotlib.pyplot as plt\n",
    "import seaborn as sns\n"
   ]
  },
  {
   "cell_type": "code",
   "execution_count": 3,
   "id": "46792e33",
   "metadata": {},
   "outputs": [],
   "source": [
    "egfp = pd.read_csv('s3://insitro-user/saradha/spectra/flurophores/fpbase_EGFP.csv',)\n",
    "mkate2 = pd.read_csv('s3://insitro-user/saradha/spectra/flurophores/fpbase_mkate2.csv',)\n",
    "mOrange = pd.read_csv('s3://insitro-user/saradha/spectra/flurophores/fpbase_mOrange.csv',)\n",
    "filter_475 = pd.read_csv('s3://insitro-user/saradha/spectra/filters/chroma_s_475_20.csv',)\n"
   ]
  },
  {
   "cell_type": "code",
   "execution_count": 19,
   "id": "e894fff8",
   "metadata": {},
   "outputs": [
    {
     "name": "stdout",
     "output_type": "stream",
     "text": [
      "0.621815183147591\n",
      "0.0024099999390993\n",
      "0.0024899999370777\n"
     ]
    }
   ],
   "source": [
    "print(np.sum(np.minimum(egfp.iloc[:,2],filter_475.iloc[:,1])))\n",
    "print(np.sum(np.minimum(mkate2.iloc[:,2],filter_475.iloc[:,1])))\n",
    "print(np.sum(np.minimum(mOrange.iloc[:,2],filter_475.iloc[:,1])))"
   ]
  }
 ],
 "metadata": {
  "kernelspec": {
   "display_name": "Python 3 (ipykernel)",
   "language": "python",
   "name": "python3"
  },
  "language_info": {
   "codemirror_mode": {
    "name": "ipython",
    "version": 3
   },
   "file_extension": ".py",
   "mimetype": "text/x-python",
   "name": "python",
   "nbconvert_exporter": "python",
   "pygments_lexer": "ipython3",
   "version": "3.9.12"
  }
 },
 "nbformat": 4,
 "nbformat_minor": 5
}
